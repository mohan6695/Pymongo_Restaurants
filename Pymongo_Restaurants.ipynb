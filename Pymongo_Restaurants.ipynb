{
 "cells": [
  {
   "cell_type": "code",
   "execution_count": 1,
   "metadata": {},
   "outputs": [],
   "source": [
    "#importing and connecting to Mongo Client\n",
    "import pymongo\n",
    "from pymongo import MongoClient\n",
    "from pprint import pprint\n",
    "client = MongoClient('localhost', 27017)\n"
   ]
  },
  {
   "cell_type": "code",
   "execution_count": 2,
   "metadata": {},
   "outputs": [],
   "source": [
    "#Here local is db name and krsna is collection\n",
    "db = client.local\n",
    "col=db.krsna"
   ]
  },
  {
   "cell_type": "code",
   "execution_count": 3,
   "metadata": {},
   "outputs": [
    {
     "name": "stdout",
     "output_type": "stream",
     "text": [
      "7544\n"
     ]
    },
    {
     "name": "stderr",
     "output_type": "stream",
     "text": [
      "C:\\Users\\mohan\\AppData\\Local\\Continuum\\anaconda3\\lib\\site-packages\\ipykernel_launcher.py:2: DeprecationWarning: count is deprecated. Use Collection.count_documents instead.\n",
      "  \n"
     ]
    }
   ],
   "source": [
    "cur=col.find({})   \n",
    "print(cur.count())  #total records"
   ]
  },
  {
   "cell_type": "code",
   "execution_count": 4,
   "metadata": {
    "scrolled": true
   },
   "outputs": [
    {
     "name": "stdout",
     "output_type": "stream",
     "text": [
      "7544\n"
     ]
    },
    {
     "name": "stderr",
     "output_type": "stream",
     "text": [
      "C:\\Users\\mohan\\AppData\\Local\\Continuum\\anaconda3\\lib\\site-packages\\ipykernel_launcher.py:2: DeprecationWarning: count is deprecated. Use Collection.count_documents instead.\n",
      "  \n"
     ]
    }
   ],
   "source": [
    "cur=col.find({},{\"restaurant_id\":1,\"name\":1,\"borough\":1,\"cuisine\" :1,\"_id\":0}) #to project column use 1,else 0\n",
    "print(cur.count())"
   ]
  },
  {
   "cell_type": "code",
   "execution_count": 5,
   "metadata": {},
   "outputs": [
    {
     "name": "stdout",
     "output_type": "stream",
     "text": [
      "{'_id': ObjectId('5f0288b8e815704e781e1f46'), 'address': {'building': '1007', 'coord': [-73.856077, 40.848447], 'street': 'Morris Park Ave', 'zipcode': '10462'}, 'borough': 'Bronx', 'cuisine': 'Bakery', 'grades': [{'date': datetime.datetime(2014, 3, 3, 0, 0), 'grade': 'A', 'score': 2}, {'date': datetime.datetime(2013, 9, 11, 0, 0), 'grade': 'A', 'score': 6}, {'date': datetime.datetime(2013, 1, 24, 0, 0), 'grade': 'A', 'score': 10}, {'date': datetime.datetime(2011, 11, 23, 0, 0), 'grade': 'A', 'score': 9}, {'date': datetime.datetime(2011, 3, 10, 0, 0), 'grade': 'B', 'score': 14}], 'name': 'Morris Park Bake Shop', 'restaurant_id': '30075445'}\n",
      "618\n"
     ]
    },
    {
     "name": "stderr",
     "output_type": "stream",
     "text": [
      "C:\\Users\\mohan\\AppData\\Local\\Continuum\\anaconda3\\lib\\site-packages\\ipykernel_launcher.py:3: DeprecationWarning: count is deprecated. Use Collection.count_documents instead.\n",
      "  This is separate from the ipykernel package so we can avoid doing imports until\n"
     ]
    }
   ],
   "source": [
    "cur=col.find({\"borough\":\"Bronx\"})   # Gets all records where borough is Bronx\n",
    "print(cur[0])\n",
    "print(cur.count())"
   ]
  },
  {
   "cell_type": "code",
   "execution_count": 6,
   "metadata": {},
   "outputs": [
    {
     "name": "stdout",
     "output_type": "stream",
     "text": [
      "{'_id': ObjectId('5f0288b8e815704e781e2145'), 'address': {'building': '345', 'coord': [-73.9864626, 40.7266739], 'street': 'East 6 Street', 'zipcode': '10003'}, 'borough': 'Manhattan', 'cuisine': 'Indian', 'grades': [{'date': datetime.datetime(2014, 9, 15, 0, 0), 'grade': 'A', 'score': 5}, {'date': datetime.datetime(2014, 1, 14, 0, 0), 'grade': 'A', 'score': 8}, {'date': datetime.datetime(2013, 5, 30, 0, 0), 'grade': 'A', 'score': 12}, {'date': datetime.datetime(2013, 4, 24, 0, 0), 'grade': 'P', 'score': 2}, {'date': datetime.datetime(2012, 10, 1, 0, 0), 'grade': 'A', 'score': 9}, {'date': datetime.datetime(2012, 4, 6, 0, 0), 'grade': 'C', 'score': 92}, {'date': datetime.datetime(2011, 11, 3, 0, 0), 'grade': 'C', 'score': 41}], 'name': 'Gandhi', 'restaurant_id': '40381295'}\n",
      "10\n"
     ]
    },
    {
     "name": "stderr",
     "output_type": "stream",
     "text": [
      "C:\\Users\\mohan\\AppData\\Local\\Continuum\\anaconda3\\lib\\site-packages\\ipykernel_launcher.py:4: DeprecationWarning: count is deprecated. Use Collection.count_documents instead.\n",
      "  after removing the cwd from sys.path.\n"
     ]
    }
   ],
   "source": [
    "#Records with score > 70, Cuisine not equals Ameraican and latitude less than -65.754168 \n",
    "cur=col.find({\"grades.score\":{\"$gt\":70},\"cuisine\":{\"$ne\":\"American \"},\"address.coord\":{\"$lt\":-65.754168} })\n",
    "print(cur[0])\n",
    "print(cur.count())"
   ]
  },
  {
   "cell_type": "code",
   "execution_count": 7,
   "metadata": {},
   "outputs": [
    {
     "name": "stdout",
     "output_type": "stream",
     "text": [
      "{'_id': ObjectId('5f0288b8e815704e781e1f4d'), 'borough': 'Brooklyn', 'cuisine': 'Delicatessen', 'name': \"Wilken'S Fine Food\", 'restaurant_id': '40356483'}\n",
      "6\n"
     ]
    },
    {
     "name": "stderr",
     "output_type": "stream",
     "text": [
      "C:\\Users\\mohan\\AppData\\Local\\Continuum\\anaconda3\\lib\\site-packages\\ipykernel_launcher.py:4: DeprecationWarning: count is deprecated. Use Collection.count_documents instead.\n",
      "  after removing the cwd from sys.path.\n"
     ]
    }
   ],
   "source": [
    "#Gets records where name starts with Wil and projecting only restaurant_id,name,borough,cuisine columns only\n",
    "cur=col.find({\"name\":{\"$regex\":\"^Wil\"}},{\"restaurant_id\" : 1,\"name\":1,\"borough\":1,\"cuisine\" :1})\n",
    "print(cur[0])\n",
    "print(cur.count())"
   ]
  },
  {
   "cell_type": "code",
   "execution_count": 8,
   "metadata": {},
   "outputs": [
    {
     "name": "stdout",
     "output_type": "stream",
     "text": [
      "{'_id': ObjectId('5f0288b8e815704e781e23d9'), 'borough': 'Manhattan', 'cuisine': 'American ', 'name': 'Pieces', 'restaurant_id': '40399910'}\n",
      "12\n"
     ]
    },
    {
     "name": "stderr",
     "output_type": "stream",
     "text": [
      "C:\\Users\\mohan\\AppData\\Local\\Continuum\\anaconda3\\lib\\site-packages\\ipykernel_launcher.py:4: DeprecationWarning: count is deprecated. Use Collection.count_documents instead.\n",
      "  after removing the cwd from sys.path.\n"
     ]
    }
   ],
   "source": [
    "#Gets records where name ends with ces and projecting only restaurant_id,name,borough,cuisine columns only\n",
    "cur=col.find({\"name\":{\"$regex\":\"ces$\"}},{\"restaurant_id\" : 1,\"name\":1,\"borough\":1,\"cuisine\" :1})\n",
    "print(cur[0])\n",
    "print(cur.count())"
   ]
  },
  {
   "cell_type": "code",
   "execution_count": 9,
   "metadata": {},
   "outputs": [
    {
     "name": "stderr",
     "output_type": "stream",
     "text": [
      "C:\\Users\\mohan\\AppData\\Local\\Continuum\\anaconda3\\lib\\site-packages\\ipykernel_launcher.py:5: DeprecationWarning: count is deprecated. Use Collection.count_documents instead.\n",
      "  \"\"\"\n"
     ]
    },
    {
     "name": "stdout",
     "output_type": "stream",
     "text": [
      "{'_id': ObjectId('5f0288b8e815704e781e1f69'), 'borough': 'Bronx', 'name': 'Happy Garden', 'restaurant_id': '40363289'}\n",
      "32\n"
     ]
    }
   ],
   "source": [
    "#Gets records where borough is Bronx and cuisine in American and Chinese and projecting only restaurant_id,name,borough columns only\n",
    "\n",
    "cur=col.find({\"borough\":\"Bronx\",\"cuisine\":{\"$in\":[\"American\",\"Chinese\"]}},{\"restaurant_id\" : 1,\"name\":1,\"borough\":1})\n",
    "print(cur[0])\n",
    "print(cur.count())"
   ]
  },
  {
   "cell_type": "code",
   "execution_count": 10,
   "metadata": {},
   "outputs": [
    {
     "name": "stdout",
     "output_type": "stream",
     "text": [
      "{'_id': ObjectId('5f0288b8e815704e781e1f47'), 'address': {'building': '469', 'coord': [-73.961704, 40.662942], 'street': 'Flatbush Avenue', 'zipcode': '11225'}, 'borough': 'Brooklyn', 'cuisine': 'Hamburgers', 'grades': [{'date': datetime.datetime(2014, 12, 30, 0, 0), 'grade': 'A', 'score': 8}, {'date': datetime.datetime(2014, 7, 1, 0, 0), 'grade': 'B', 'score': 23}, {'date': datetime.datetime(2013, 4, 30, 0, 0), 'grade': 'A', 'score': 12}, {'date': datetime.datetime(2012, 5, 8, 0, 0), 'grade': 'A', 'score': 12}], 'name': \"Wendy'S\", 'restaurant_id': '30112340'}\n"
     ]
    },
    {
     "name": "stderr",
     "output_type": "stream",
     "text": [
      "C:\\Users\\mohan\\AppData\\Local\\Continuum\\anaconda3\\lib\\site-packages\\ipykernel_launcher.py:8: DeprecationWarning: count is deprecated. Use Collection.count_documents instead.\n",
      "  \n"
     ]
    },
    {
     "name": "stdout",
     "output_type": "stream",
     "text": [
      "3160\n"
     ]
    }
   ],
   "source": [
    "#Gets records where borough in Bronxor or Brooklyn or Queens or Staten Island\n",
    "cur=col.find({\"$or\":[{\"borough\":\"Bronxor\"},{\"borough\":\"Brooklyn\"},{\"borough\":\"Queens\"},{\"borough\":\"Staten Island\"}]})\n",
    "\n",
    "#Alternate way of above Query\n",
    "cur=col.find({\"borough\":{\"$in\":[\"Bronxor\",\"Brooklyn\",\"Queens\",\"Staten Island\"]}})\n",
    "\n",
    "print(cur[0])\n",
    "print(cur.count())"
   ]
  },
  {
   "cell_type": "code",
   "execution_count": 11,
   "metadata": {},
   "outputs": [
    {
     "name": "stdout",
     "output_type": "stream",
     "text": [
      "{'_id': ObjectId('5f0288b8e815704e781e1f46'), 'address': {'building': '1007', 'coord': [-73.856077, 40.848447], 'street': 'Morris Park Ave', 'zipcode': '10462'}, 'borough': 'Bronx', 'cuisine': 'Bakery', 'grades': [{'date': datetime.datetime(2014, 3, 3, 0, 0), 'grade': 'A', 'score': 2}, {'date': datetime.datetime(2013, 9, 11, 0, 0), 'grade': 'A', 'score': 6}, {'date': datetime.datetime(2013, 1, 24, 0, 0), 'grade': 'A', 'score': 10}, {'date': datetime.datetime(2011, 11, 23, 0, 0), 'grade': 'A', 'score': 9}, {'date': datetime.datetime(2011, 3, 10, 0, 0), 'grade': 'B', 'score': 14}], 'name': 'Morris Park Bake Shop', 'restaurant_id': '30075445'}\n",
      "4384\n"
     ]
    },
    {
     "name": "stderr",
     "output_type": "stream",
     "text": [
      "C:\\Users\\mohan\\AppData\\Local\\Continuum\\anaconda3\\lib\\site-packages\\ipykernel_launcher.py:5: DeprecationWarning: count is deprecated. Use Collection.count_documents instead.\n",
      "  \"\"\"\n"
     ]
    }
   ],
   "source": [
    "#Gets records where borough not in Bronxor or Brooklyn or Queens or Staten Island\n",
    "\n",
    "cur=col.find({\"borough\":{\"$nin\":[\"Bronxor\",\"Brooklyn\",\"Queens\",\"Staten Island\"]}})\n",
    "print(cur[0])\n",
    "print(cur.count())"
   ]
  },
  {
   "cell_type": "code",
   "execution_count": 12,
   "metadata": {},
   "outputs": [
    {
     "name": "stdout",
     "output_type": "stream",
     "text": [
      "{'_id': ObjectId('5f0288b8e815704e781e2bd6'), 'address': {'building': '129', 'coord': [-73.962943, 40.685007], 'street': 'Gates Avenue', 'zipcode': '11238'}, 'borough': 'Brooklyn', 'cuisine': 'Italian', 'grades': [{'date': datetime.datetime(2014, 3, 6, 0, 0), 'grade': 'A', 'score': 5}, {'date': datetime.datetime(2013, 8, 29, 0, 0), 'grade': 'A', 'score': 2}, {'date': datetime.datetime(2013, 3, 8, 0, 0), 'grade': 'A', 'score': 7}, {'date': datetime.datetime(2012, 6, 27, 0, 0), 'grade': 'A', 'score': 7}, {'date': datetime.datetime(2011, 11, 17, 0, 0), 'grade': 'A', 'score': 12}], 'name': '(Lewis Drug Store) Locanda Vini E Olii', 'restaurant_id': '40804423'}\n",
      "7544\n"
     ]
    },
    {
     "name": "stderr",
     "output_type": "stream",
     "text": [
      "C:\\Users\\mohan\\AppData\\Local\\Continuum\\anaconda3\\lib\\site-packages\\ipykernel_launcher.py:3: DeprecationWarning: count is deprecated. Use Collection.count_documents instead.\n",
      "  This is separate from the ipykernel package so we can avoid doing imports until\n"
     ]
    }
   ],
   "source": [
    "cur=col.find().sort(\"name\",1)\n",
    "print(cur[0])\n",
    "print(cur.count())"
   ]
  },
  {
   "cell_type": "code",
   "execution_count": 13,
   "metadata": {},
   "outputs": [
    {
     "name": "stdout",
     "output_type": "stream",
     "text": [
      "{'_id': ObjectId('5f0288b8e815704e781e1fda'), 'address': {'coord': [-73.98306099999999, 40.7441419]}, 'borough': 'Manhattan', 'cuisine': 'American ', 'name': \"Desmond'S Tavern\"}\n",
      "64\n"
     ]
    },
    {
     "name": "stderr",
     "output_type": "stream",
     "text": [
      "C:\\Users\\mohan\\AppData\\Local\\Continuum\\anaconda3\\lib\\site-packages\\ipykernel_launcher.py:4: DeprecationWarning: count is deprecated. Use Collection.count_documents instead.\n",
      "  after removing the cwd from sys.path.\n"
     ]
    }
   ],
   "source": [
    "#Gets records where name has string 'mon' in it and projecting name,borough,address.coord,cuisine\n",
    "cur=col.find({\"name\":{\"$regex\":\"mon.*\",\"$options\":\"i\"}},{\"name\":1,\"borough\":1,\"address.coord\":1,\"cuisine\" :1})\n",
    "print(cur[0])\n",
    "print(cur.count())"
   ]
  },
  {
   "cell_type": "code",
   "execution_count": 14,
   "metadata": {},
   "outputs": [
    {
     "name": "stdout",
     "output_type": "stream",
     "text": [
      "{'_id': ObjectId('5f0288b8e815704e781e2482'), 'address': {'coord': [-73.9860597, 40.7431194]}, 'borough': 'Manhattan', 'cuisine': 'American ', 'name': 'Madison Square'}\n",
      "16\n"
     ]
    },
    {
     "name": "stderr",
     "output_type": "stream",
     "text": [
      "C:\\Users\\mohan\\AppData\\Local\\Continuum\\anaconda3\\lib\\site-packages\\ipykernel_launcher.py:4: DeprecationWarning: count is deprecated. Use Collection.count_documents instead.\n",
      "  after removing the cwd from sys.path.\n"
     ]
    }
   ],
   "source": [
    "#Gets records where name starts with 'Mad' in it and projecting name,borough,address.coord,cuisine\n",
    "cur=col.find({\"name\":{\"$regex\":\"^Mad\",\"$options\":\"i\"}},{\"name\":1,\"borough\":1,\"address.coord\":1,\"cuisine\" :1})\n",
    "print(cur[0])\n",
    "print(cur.count())"
   ]
  },
  {
   "cell_type": "code",
   "execution_count": null,
   "metadata": {},
   "outputs": [],
   "source": []
  }
 ],
 "metadata": {
  "kernelspec": {
   "display_name": "Python 3",
   "language": "python",
   "name": "python3"
  },
  "language_info": {
   "codemirror_mode": {
    "name": "ipython",
    "version": 3
   },
   "file_extension": ".py",
   "mimetype": "text/x-python",
   "name": "python",
   "nbconvert_exporter": "python",
   "pygments_lexer": "ipython3",
   "version": "3.7.4"
  }
 },
 "nbformat": 4,
 "nbformat_minor": 2
}
